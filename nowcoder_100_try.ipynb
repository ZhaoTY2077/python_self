{
 "cells": [
  {
   "attachments": {},
   "cell_type": "markdown",
   "metadata": {},
   "source": [
    "#### BM83 字符串变形\n",
    "对于一个长度为 n 字符串，我们需要对它做一些变形。\n",
    "\n",
    "首先这个字符串中包含着一些空格，就像\"Hello World\"一样，然后我们要做的是把这个字符串中由空格隔开的单词反序，同时反转每个字符的大小写。\n",
    "\n",
    "比如\"Hello World\"变形后就变成了\"wORLD hELLO\"。"
   ]
  },
  {
   "cell_type": "code",
   "execution_count": 8,
   "metadata": {},
   "outputs": [],
   "source": [
    "class Solution83:\n",
    "    def Trans(self, s: str, n: int) -> str:\n",
    "        s_l = s.split(' ')\n",
    "        ans = []\n",
    "        for word in s_l:\n",
    "            temp = []\n",
    "            for i in range(len(word)):\n",
    "                if word[i].islower():\n",
    "                    temp.append(word[i].upper())\n",
    "                else: \n",
    "                    temp.append(word[i].lower())\n",
    "            ans.append(''.join(temp))\n",
    "        return ' '.join(ans[::-1])"
   ]
  },
  {
   "cell_type": "code",
   "execution_count": 14,
   "metadata": {},
   "outputs": [
    {
     "data": {
      "text/plain": [
       "'SAMPLE A IS tHIS'"
      ]
     },
     "execution_count": 14,
     "metadata": {},
     "output_type": "execute_result"
    }
   ],
   "source": [
    "trans = Solution83\n",
    "teststr = \"This is a sample\"\n",
    "trans.Trans(trans, teststr, 16)"
   ]
  },
  {
   "cell_type": "code",
   "execution_count": 15,
   "metadata": {},
   "outputs": [
    {
     "data": {
      "text/plain": [
       "'SAMPLE A IS tHIS'"
      ]
     },
     "execution_count": 15,
     "metadata": {},
     "output_type": "execute_result"
    }
   ],
   "source": [
    "trans = Solution83()\n",
    "trans.Trans(teststr, 16)"
   ]
  }
 ],
 "metadata": {
  "kernelspec": {
   "display_name": "self_study",
   "language": "python",
   "name": "python3"
  },
  "language_info": {
   "codemirror_mode": {
    "name": "ipython",
    "version": 3
   },
   "file_extension": ".py",
   "mimetype": "text/x-python",
   "name": "python",
   "nbconvert_exporter": "python",
   "pygments_lexer": "ipython3",
   "version": "3.11.0"
  },
  "orig_nbformat": 4,
  "vscode": {
   "interpreter": {
    "hash": "4f5e2bf1028097128145665492c5a9390f8efb0f6d6e02887bfbfcaf975c3843"
   }
  }
 },
 "nbformat": 4,
 "nbformat_minor": 2
}
