{
 "cells": [
  {
   "cell_type": "code",
   "execution_count": 1,
   "metadata": {},
   "outputs": [],
   "source": [
    "def L(nums, i)-> int:\n",
    "\n",
    "    if i == len(nums)-1:\n",
    "        return 1\n",
    "\n",
    "    max_len = 1\n",
    "    for j in range(i+1, len(nums)):\n",
    "        if nums[j] > nums[i]:\n",
    "            max_len = max(max_len, L(nums, j)+1)\n",
    "    return max_len"
   ]
  },
  {
   "cell_type": "code",
   "execution_count": 2,
   "metadata": {},
   "outputs": [],
   "source": [
    "def length_of_LIS(nums):\n",
    "    return max(L(nums, i) for i in range(len(nums)))"
   ]
  },
  {
   "cell_type": "code",
   "execution_count": 7,
   "metadata": {},
   "outputs": [
    {
     "name": "stdout",
     "output_type": "stream",
     "text": [
      "3\n"
     ]
    }
   ],
   "source": [
    "nums = [1,5,2,4,3]\n",
    "print(length_of_LIS(nums))"
   ]
  },
  {
   "cell_type": "code",
   "execution_count": 6,
   "metadata": {},
   "outputs": [],
   "source": [
    "memo = {}\n",
    "\n",
    "def L(nums, i):\n",
    "    if i == len(nums) - 1:\n",
    "        return 1\n",
    "    \n",
    "    max_len = 1\n",
    "    for j in range(i+1, len(nums)):\n",
    "        if nums[j]> nums[i]:\n",
    "            max_len = max(max_len, L(nums, j) + 1)\n",
    "\n",
    "    memo[i] = max_len\n",
    "    return max_len\n",
    "\n",
    "def length_of_LIS(nums):\n",
    "    return max(L(nums, i) for i in range(len(nums)))"
   ]
  },
  {
   "cell_type": "code",
   "execution_count": 4,
   "metadata": {},
   "outputs": [],
   "source": [
    "def length_of_LIS(nums):\n",
    "    n = len(nums)\n",
    "    L = [1] * n\n",
    "\n",
    "    for i in reversed(range(n)):\n",
    "        for j in range(i +1 , n):\n",
    "            if nums[j] > nums[i]:\n",
    "                L[i] = max(L[i], L[j] +1 )\n",
    "    return max(L)"
   ]
  },
  {
   "cell_type": "code",
   "execution_count": null,
   "metadata": {},
   "outputs": [],
   "source": []
  }
 ],
 "metadata": {
  "kernelspec": {
   "display_name": "self_study",
   "language": "python",
   "name": "python3"
  },
  "language_info": {
   "codemirror_mode": {
    "name": "ipython",
    "version": 3
   },
   "file_extension": ".py",
   "mimetype": "text/x-python",
   "name": "python",
   "nbconvert_exporter": "python",
   "pygments_lexer": "ipython3",
   "version": "3.11.0"
  },
  "orig_nbformat": 4,
  "vscode": {
   "interpreter": {
    "hash": "4f5e2bf1028097128145665492c5a9390f8efb0f6d6e02887bfbfcaf975c3843"
   }
  }
 },
 "nbformat": 4,
 "nbformat_minor": 2
}
