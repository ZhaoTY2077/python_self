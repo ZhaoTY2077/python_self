{
 "cells": [
  {
   "cell_type": "code",
   "execution_count": 33,
   "metadata": {},
   "outputs": [],
   "source": [
    "class Vector:\n",
    "    def __init__(self, x, y):\n",
    "        self.x = x\n",
    "        self.y = y\n",
    "    \n",
    "    def __repr__(self):\n",
    "        return f\"Vector({self.x}, {self.y})\"\n",
    "\n",
    "    def __add__(self, other):\n",
    "        return Vector(self.x + other.x, self.y + other.y)\n",
    "\n",
    "    def __mul__(self, other):\n",
    "        # v1 * v2\n",
    "        if isinstance(other, int):\n",
    "            return Vector(self.x * other, self.y * other)\n",
    "\n",
    "    def __rmul__(self, other):\n",
    "        # other * self\n",
    "        if isinstance(other, int):\n",
    "            return Vector(self.x * other, self.y * other)\n",
    "\n",
    "    def __iadd__(self, other):\n",
    "        # v1 += v2\n",
    "        self.x += other.x\n",
    "        self.y += other.y\n",
    "        return self\n",
    "    \n",
    "    def __neg__(self):\n",
    "        return Vector(-self.x, -self.y)\n",
    "    \n",
    "    def __pos__(self):\n",
    "        print(\"Pos!\")\n",
    "        return Vector(self.x, self.y)\n",
    "    \n",
    "    def __abs__(self):\n",
    "        return Vector(abs(self.x), abs(self.y))\n",
    "    \n",
    "    def __invert__(self):\n",
    "        return Vector(self.y, self.x)\n",
    "    \n",
    "    def __complex__(self):\n",
    "        return complex(self.x)\n",
    "    \n"
   ]
  },
  {
   "cell_type": "code",
   "execution_count": 34,
   "metadata": {},
   "outputs": [],
   "source": [
    "#在更新class后，同时也要运行此单元格更新class的实例化，不然v1和v2仍然是旧的class的实例\n",
    "v1 = Vector(0,1)\n",
    "v2 = Vector(2,3)"
   ]
  },
  {
   "cell_type": "code",
   "execution_count": 5,
   "metadata": {},
   "outputs": [
    {
     "name": "stdout",
     "output_type": "stream",
     "text": [
      "Vector(3, 4)\n"
     ]
    }
   ],
   "source": [
    "print(v1 + v2)"
   ]
  },
  {
   "cell_type": "code",
   "execution_count": 23,
   "metadata": {},
   "outputs": [
    {
     "name": "stdout",
     "output_type": "stream",
     "text": [
      "Vector(0, 2)\n"
     ]
    }
   ],
   "source": [
    "print(v1 * 2)"
   ]
  },
  {
   "cell_type": "code",
   "execution_count": 22,
   "metadata": {},
   "outputs": [
    {
     "name": "stdout",
     "output_type": "stream",
     "text": [
      "Vector(0, 2)\n"
     ]
    }
   ],
   "source": [
    "print(2 * v1)"
   ]
  },
  {
   "cell_type": "code",
   "execution_count": 32,
   "metadata": {},
   "outputs": [
    {
     "name": "stdout",
     "output_type": "stream",
     "text": [
      "Vector(-2, -3)\n"
     ]
    }
   ],
   "source": [
    "print(-v2)"
   ]
  },
  {
   "cell_type": "code",
   "execution_count": 35,
   "metadata": {},
   "outputs": [
    {
     "name": "stdout",
     "output_type": "stream",
     "text": [
      "Vector(1, 0)\n"
     ]
    }
   ],
   "source": [
    "# invert\n",
    "print(~v1)"
   ]
  }
 ],
 "metadata": {
  "kernelspec": {
   "display_name": "self_study",
   "language": "python",
   "name": "python3"
  },
  "language_info": {
   "codemirror_mode": {
    "name": "ipython",
    "version": 3
   },
   "file_extension": ".py",
   "mimetype": "text/x-python",
   "name": "python",
   "nbconvert_exporter": "python",
   "pygments_lexer": "ipython3",
   "version": "3.11.0"
  },
  "orig_nbformat": 4,
  "vscode": {
   "interpreter": {
    "hash": "4f5e2bf1028097128145665492c5a9390f8efb0f6d6e02887bfbfcaf975c3843"
   }
  }
 },
 "nbformat": 4,
 "nbformat_minor": 2
}
