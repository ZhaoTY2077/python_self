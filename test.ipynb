{
 "cells": [
  {
   "cell_type": "code",
   "execution_count": 22,
   "metadata": {},
   "outputs": [],
   "source": [
    "class Animal(object):  #  python3中所有类都可以继承于object基类\n",
    "    def __init__(self, name, age):\n",
    "        self.name = name\n",
    "        self.age = age\n",
    "\n",
    "    def call(self):\n",
    "        print(self.name, '会叫')\n",
    "    \n",
    "# 现在我们需要定义一个Cat 猫类继承于Animal，猫类比动物类多一个sex属性。 \n",
    "######\n",
    "class Cat(Animal):\n",
    "    def __init__(self,name,age,sex):\n",
    "        super(Cat, self).__init__(name,age)  # 不要忘记从Animal类引入属性\n",
    "        self.sex=sex"
   ]
  },
  {
   "cell_type": "code",
   "execution_count": 23,
   "metadata": {},
   "outputs": [
    {
     "name": "stdout",
     "output_type": "stream",
     "text": [
      "cat 会叫\n"
     ]
    }
   ],
   "source": [
    "\n",
    "if __name__ == '__main__':  # 单模块被引用时下面代码不会受影响，用于调试\n",
    "    c = Cat('cat', 2, '男')  #  Cat继承了父类Animal的属性\n",
    "    c.call()  # 输出 喵喵 会叫 ，Cat继承了父类Animal的方法 "
   ]
  }
 ],
 "metadata": {
  "kernelspec": {
   "display_name": "self_study",
   "language": "python",
   "name": "python3"
  },
  "language_info": {
   "codemirror_mode": {
    "name": "ipython",
    "version": 3
   },
   "file_extension": ".py",
   "mimetype": "text/x-python",
   "name": "python",
   "nbconvert_exporter": "python",
   "pygments_lexer": "ipython3",
   "version": "3.11.0"
  },
  "orig_nbformat": 4,
  "vscode": {
   "interpreter": {
    "hash": "4f5e2bf1028097128145665492c5a9390f8efb0f6d6e02887bfbfcaf975c3843"
   }
  }
 },
 "nbformat": 4,
 "nbformat_minor": 2
}
