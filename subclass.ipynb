{
 "cells": [
  {
   "cell_type": "code",
   "execution_count": 16,
   "metadata": {},
   "outputs": [],
   "source": [
    "class test1():\n",
    "\n",
    "    def __init__(self, x):\n",
    "        self.x = x\n",
    "    \n",
    "    def print(self,x):\n",
    "        print(x)\n",
    "\n",
    "class test2(test1):\n",
    "    def __init__(self, y):\n",
    "        self.y = y\n",
    "    \n",
    "    def printsomethingmore(self):\n",
    "        print(self.y)"
   ]
  },
  {
   "cell_type": "code",
   "execution_count": 5,
   "metadata": {},
   "outputs": [
    {
     "data": {
      "text/plain": [
       "True"
      ]
     },
     "execution_count": 5,
     "metadata": {},
     "output_type": "execute_result"
    }
   ],
   "source": [
    "test = test2(\"yes\")\n",
    "isinstance(test, test1)"
   ]
  },
  {
   "cell_type": "code",
   "execution_count": 17,
   "metadata": {},
   "outputs": [
    {
     "name": "stdout",
     "output_type": "stream",
     "text": [
      "yes\n"
     ]
    }
   ],
   "source": [
    "test0 = test2(\"yes\")\n",
    "test0.printsomethingmore()"
   ]
  }
 ],
 "metadata": {
  "kernelspec": {
   "display_name": "self_study",
   "language": "python",
   "name": "python3"
  },
  "language_info": {
   "codemirror_mode": {
    "name": "ipython",
    "version": 3
   },
   "file_extension": ".py",
   "mimetype": "text/x-python",
   "name": "python",
   "nbconvert_exporter": "python",
   "pygments_lexer": "ipython3",
   "version": "3.11.0"
  },
  "orig_nbformat": 4,
  "vscode": {
   "interpreter": {
    "hash": "4f5e2bf1028097128145665492c5a9390f8efb0f6d6e02887bfbfcaf975c3843"
   }
  }
 },
 "nbformat": 4,
 "nbformat_minor": 2
}
